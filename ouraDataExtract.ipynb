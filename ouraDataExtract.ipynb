{
 "cells": [
  {
   "cell_type": "markdown",
   "metadata": {},
   "source": [
    "# Extract Oura Data"
   ]
  },
  {
   "cell_type": "code",
   "execution_count": 59,
   "metadata": {},
   "outputs": [],
   "source": [
    "import pandas as pd\n",
    "import json\n",
    "import os\n",
    "import datetime\n",
    "\n",
    "## The following functions are used within this notebook\n",
    "\n",
    "\n",
    "def sec2hours(secs):\n",
    "    \"\"\"\n",
    "    Function takes in an integer value of seconds and returns a datetime object in hh:mm:ss\n",
    "    Basically just to reduce typing in the code\n",
    "    \"\"\"\n",
    "    return str(datetime.timedelta(seconds=secs))\n",
    "\n",
    "\n",
    "def sleepData(rawdata):\n",
    "    \"\"\"\n",
    "    Function sleepData takes in raw data from the Oura JSON file, separates the desired sleep data, and\n",
    "    returns a pandas Dataframe with a datetime index of dates in YYYY-MM-DD.\n",
    "    \"\"\"\n",
    "    sdata = rawdata['sleep']\n",
    "    \n",
    "    slist = []\n",
    "    for item in range(len(sdata)):\n",
    "        sdate = sdata[item]['summary_date']\n",
    "        sleep = sdata[item]['score']\n",
    "        resprate = round(sdata[item]['breath_average'], 1)  # breaths/minute\n",
    "        awake = sdata[item]['awake']   # seconds\n",
    "        rem = sdata[item]['rem']   # seconds\n",
    "        deep = sdata[item]['deep']   # seconds\n",
    "        light = sdata[item]['light']   # seconds\n",
    "        sleepTot = sdata[item]['total']   # seconds\n",
    "        hravg = int(sdata[item]['hr_average'])\n",
    "        hrlow = sdata[item]['hr_lowest']   # bpm\n",
    "        hrvavg = sdata[item]['rmssd']\n",
    "        hrvhigh = max(sdata[item]['rmssd_5min'])\n",
    "        \n",
    "        slist.append([sdate, sleep, resprate, sec2hours(awake), sec2hours(rem), sec2hours(deep), sec2hours(light),\n",
    "                      sec2hours(sleepTot), hravg, hrlow, hrvavg, hrvhigh])\n",
    "    scolnames = ['Date', 'Sleep Score', 'Respiratory Rate', 'Awake', 'Rem Sleep', 'Deep Sleep',\n",
    "                    'Light Sleep', 'Total Sleep', 'HR avg', 'HR low', 'HRV avg', 'HRV high']\n",
    "    sleepDF = pd.DataFrame(slist, columns=scolnames)\n",
    "    sleepDF.Date = pd.to_datetime(sleepDF.Date)\n",
    "    sleepDF = sleepDF.set_index('Date')\n",
    "        \n",
    "    return sleepDF\n",
    "\n",
    "\n",
    "\n",
    "def readinessData(rawdata):\n",
    "    \"\"\"\n",
    "    readinessData takes in raw data from an Oura JSON file, separates out the desired readiness data, and\n",
    "    returns a pandas Dataframe with a datetime index of dates in YYYY-MM-DD.\n",
    "    \"\"\"\n",
    "    rdata = rawdata['readiness']\n",
    "    \n",
    "    rlist = []\n",
    "    for item in range(len(rdata)):\n",
    "        rdate = rdata[item]['summary_date']\n",
    "        rscore = rdata[item]['score']\n",
    "        rlist.append([rdate, rscore])\n",
    "    rcolnames = ['Date', 'Readiness Score']\n",
    "    readyDF = pd.DataFrame(rlist, columns=rcolnames)\n",
    "    readyDF.Date = pd.to_datetime(readyDF.Date)\n",
    "    readyDF = readyDF.set_index('Date')\n",
    "    return readyDF\n",
    "\n"
   ]
  },
  {
   "cell_type": "markdown",
   "metadata": {},
   "source": [
    "Open the Oura JSON file and load the data.  Run the sleepData() and readinessData() functions to create pandas Dataframes for the sleep and readiness data.  There was a readiness duplicate date on 2019-06-08, so a line was written to discard the wrong duplicate.  Not sure why that date had a duplicate.  There was also a date that had a readiness value but no sleep data, the 'inner' join while concatenating the dataframes gets rid of that problem."
   ]
  },
  {
   "cell_type": "code",
   "execution_count": 85,
   "metadata": {},
   "outputs": [],
   "source": [
    "# Open the Oura JSON file and load the data\n",
    "with open('data_oura.json') as file:\n",
    "    data = json.load(file)\n",
    "    \n",
    "# Run the sleepData and readinessData functions on the raw Oura data, returning a couple of dataframes\n",
    "sleepDF = sleepData(data)\n",
    "readyDF = readinessData(data)\n",
    "\n",
    "# Remove the unwanted duplicate index in readiness data\n",
    "readyDF = readyDF[~readyDF.index.duplicated(keep='last')]\n",
    "\n",
    "# Join the intersection of Readiness and Sleep Dataframes\n",
    "ouraDF = pd.concat([readyDF, sleepDF], axis=1, join='inner')\n",
    "ouraDF.to_csv('clean_oura_data.csv')"
   ]
  },
  {
   "cell_type": "code",
   "execution_count": 82,
   "metadata": {},
   "outputs": [],
   "source": [
    "# This picks out the index in the readiness data that isn't in the sleep data\n",
    "# It is filtered out through the 'inner' join during concatenation\n",
    "\n",
    "#readyDF[~readyDF.index.isin(sleepDF.index)]"
   ]
  },
  {
   "cell_type": "code",
   "execution_count": null,
   "metadata": {},
   "outputs": [],
   "source": []
  }
 ],
 "metadata": {
  "kernelspec": {
   "display_name": "Python 3",
   "language": "python",
   "name": "python3"
  },
  "language_info": {
   "codemirror_mode": {
    "name": "ipython",
    "version": 3
   },
   "file_extension": ".py",
   "mimetype": "text/x-python",
   "name": "python",
   "nbconvert_exporter": "python",
   "pygments_lexer": "ipython3",
   "version": "3.7.6"
  }
 },
 "nbformat": 4,
 "nbformat_minor": 4
}
